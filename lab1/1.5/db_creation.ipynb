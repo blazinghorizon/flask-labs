{
 "cells": [
  {
   "cell_type": "code",
   "execution_count": 1,
   "metadata": {},
   "outputs": [],
   "source": [
    "import sqlite3 as sl\n",
    "\n",
    "con = sl.connect('my-test.db')\n"
   ]
  },
  {
   "cell_type": "code",
   "execution_count": null,
   "metadata": {},
   "outputs": [],
   "source": [
    "\n",
    "with con:\n",
    "    con.execute(\"\"\"\n",
    "        CREATE TABLE USERS (\n",
    "            id INTEGER NOT NULL PRIMARY KEY AUTOINCREMENT,\n",
    "            username TEXT,\n",
    "            password TEXT\n",
    "        );\n",
    "    \"\"\")\n",
    "\n",
    "    con.execute(\"\"\"\n",
    "        CREATE TABLE BOXES (\n",
    "            id INTEGER NOT NULL PRIMARY KEY AUTOINCREMENT,\n",
    "            name TEXT,\n",
    "            color TEXT,\n",
    "            objects TEXT,\n",
    "            boxowner INTEGER,\n",
    "            FOREIGN KEY (boxowner) REFERENCES USERS(id)\n",
    "        );\n",
    "    \"\"\")"
   ]
  },
  {
   "cell_type": "code",
   "execution_count": 20,
   "metadata": {},
   "outputs": [
    {
     "data": {
      "text/plain": [
       "(1, 'test_1', 'green', '{\"pen\": 1}', 1)"
      ]
     },
     "execution_count": 20,
     "metadata": {},
     "output_type": "execute_result"
    }
   ],
   "source": [
    "with con:\n",
    "    output = con.execute(\"\"\"\n",
    "                SELECT * FROM BOXES\n",
    "                \"\"\").fetchall()\n",
    "\n",
    "    con.commit()\n",
    "\n",
    "output[0]"
   ]
  },
  {
   "cell_type": "code",
   "execution_count": 25,
   "metadata": {},
   "outputs": [
    {
     "data": {
      "text/plain": [
       "(str, '{\"pen\": 1}')"
      ]
     },
     "execution_count": 25,
     "metadata": {},
     "output_type": "execute_result"
    }
   ],
   "source": [
    "type(output[0][3]), output[0][3]"
   ]
  },
  {
   "cell_type": "code",
   "execution_count": 27,
   "metadata": {},
   "outputs": [
    {
     "data": {
      "text/plain": [
       "dict"
      ]
     },
     "execution_count": 27,
     "metadata": {},
     "output_type": "execute_result"
    }
   ],
   "source": [
    "from ast import literal_eval\n",
    "\n",
    "type(literal_eval(output[0][3]))"
   ]
  },
  {
   "cell_type": "code",
   "execution_count": 14,
   "metadata": {},
   "outputs": [
    {
     "data": {
      "text/plain": [
       "1"
      ]
     },
     "execution_count": 14,
     "metadata": {},
     "output_type": "execute_result"
    }
   ],
   "source": [
    "with con:\n",
    "    id = con.execute(f'SELECT id FROM USERS WHERE username = \"admin\"').fetchone()[0]\n",
    "\n",
    "id"
   ]
  },
  {
   "cell_type": "code",
   "execution_count": 4,
   "metadata": {},
   "outputs": [],
   "source": [
    "with con:\n",
    "    con.execute(\"\"\"\n",
    "        INSERT INTO BOXES (name, color, objects, boxowner) VALUES ('test_1', 'green', '{\\\"pen\\\": 1}', 1)\n",
    "    \"\"\")"
   ]
  },
  {
   "cell_type": "code",
   "execution_count": null,
   "metadata": {},
   "outputs": [],
   "source": [
    "with con:\n",
    "    con.execute(\"\"\"\n",
    "        INSERT INTO BOXES (name, color, objects, boxowner) VALUES ('test_1', 'green', '{\\\"pen\\\": 1}', 1)\n",
    "    \"\"\")"
   ]
  },
  {
   "cell_type": "markdown",
   "metadata": {},
   "source": []
  }
 ],
 "metadata": {
  "kernelspec": {
   "display_name": "stats",
   "language": "python",
   "name": "python3"
  },
  "language_info": {
   "codemirror_mode": {
    "name": "ipython",
    "version": 3
   },
   "file_extension": ".py",
   "mimetype": "text/x-python",
   "name": "python",
   "nbconvert_exporter": "python",
   "pygments_lexer": "ipython3",
   "version": "3.10.4"
  },
  "orig_nbformat": 4
 },
 "nbformat": 4,
 "nbformat_minor": 2
}
